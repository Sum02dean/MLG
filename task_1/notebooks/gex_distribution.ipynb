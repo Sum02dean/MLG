{
 "cells": [
  {
   "cell_type": "code",
   "execution_count": null,
   "metadata": {
    "collapsed": true,
    "pycharm": {
     "is_executing": true,
     "name": "#%%\n"
    }
   },
   "outputs": [],
   "source": [
    "import matplotlib.pyplot as plt\n",
    "from utils.data_loader import load_train_genes, get_train_chr, filter_genes_by_chr\n",
    "\n",
    "all_genes = load_train_genes()\n",
    "for chr in get_train_chr():\n",
    "    genes = filter_genes_by_chr(all_genes, [chr])\n",
    "    exp = sorted(genes.gex)\n",
    "    plt.scatter([chr for _ in range(len(genes))], exp, s=1)"
   ]
  }
 ],
 "metadata": {
  "kernelspec": {
   "display_name": "Python 3 (ipykernel)",
   "language": "python",
   "name": "python3"
  },
  "language_info": {
   "codemirror_mode": {
    "name": "ipython",
    "version": 3
   },
   "file_extension": ".py",
   "mimetype": "text/x-python",
   "name": "python",
   "nbconvert_exporter": "python",
   "pygments_lexer": "ipython3",
   "version": "3.9.7"
  }
 },
 "nbformat": 4,
 "nbformat_minor": 1
}